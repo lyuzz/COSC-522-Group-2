{
 "cells": [
  {
   "cell_type": "code",
   "execution_count": null,
   "metadata": {},
   "outputs": [],
   "source": [
    "replace_index = np.random.choice(len(House), size = int(len(House)/4), replace = False)\n",
    "Houseval = House.iloc[replace_index]\n",
    "Housetrain= House.drop(replace_index)\n",
    "traintarget = Housetrain['SaleClass']\n",
    "valtarget = Houseval['SaleClass']\n",
    "traintarget2 = Housetrain['SaleClass2']\n",
    "valtarget2 = Houseval['SaleClass2']\n",
    "Housetrain = Housetrain[cats]\n",
    "Houseval = Houseval[cats]\n",
    "Housetrain['HouseAge']=2010 - Housetrain['YearBuilt']\n",
    "Houseval['HouseAge'] = 2010 - Houseval['YearBuilt']\n",
    "Housetrain.drop('YearBuilt', axis =1, inplace = True)\n",
    "Houseval.drop('YearBuilt', axis = 1, inplace = True)\n",
    "Housetrain['RemodAge']=2010 - Housetrain['YearRemodAdd']\n",
    "Houseval['RemodAge'] = 2010 - Houseval['YearRemodAdd']\n",
    "Housetrain.drop('YearRemodAdd', axis =1, inplace = True)\n",
    "Houseval.drop('YearRemodAdd', axis = 1, inplace = True)\n",
    "fillvals = {'LotFrontage': 0, 'MasVnrArea': 0, 'GarageYrBlt': min(Housetrain['GarageYrBlt'])}  #creates fill values\n",
    "Housetrain.fillna(value = fillvals, inplace = True)\n",
    "Houseval.fillna(value = fillvals, inplace = True)\n",
    "Housetrain['GarageAge']=2010 - Housetrain['GarageYrBlt']\n",
    "Houseval['GarageAge'] = 2010 - Houseval['GarageYrBlt']\n",
    "Housetrain.drop('GarageYrBlt', axis =1, inplace = True)\n",
    "Houseval.drop('GarageYrBlt', axis = 1, inplace = True)\n",
    "Housetrain['MonthsSold']= 12*(2010 - Housetrain['YrSold'])+(12-Housetrain['MoSold'])\n",
    "Houseval['MonthsSold']= 12*(2010 - Houseval['YrSold'])+(12-Houseval['MoSold'])\n",
    "Housetrain.drop(['YrSold', 'MoSold'], axis = 1, inplace = True)\n",
    "Houseval.drop(['YrSold', 'MoSold'], axis = 1, inplace = True)"
   ]
  }
 ],
 "metadata": {
  "kernelspec": {
   "display_name": "Python 3",
   "language": "python",
   "name": "python3"
  },
  "language_info": {
   "codemirror_mode": {
    "name": "ipython",
    "version": 3
   },
   "file_extension": ".py",
   "mimetype": "text/x-python",
   "name": "python",
   "nbconvert_exporter": "python",
   "pygments_lexer": "ipython3",
   "version": "3.7.7"
  }
 },
 "nbformat": 4,
 "nbformat_minor": 4
}
